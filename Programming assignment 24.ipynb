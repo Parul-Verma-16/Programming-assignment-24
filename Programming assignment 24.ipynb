{
 "cells": [
  {
   "cell_type": "markdown",
   "id": "7ad0d115",
   "metadata": {},
   "source": [
    "## 1) Create a function that takes an integer and returns a list from 1 to the given number, where:\n",
    "## 1. If the number can be divided evenly by 4, amplify it by 10 (i.e. return 10 times the number).\n",
    "## 2. If the number cannot be divided evenly by 4, simply return the number."
   ]
  },
  {
   "cell_type": "code",
   "execution_count": 1,
   "id": "141e304b",
   "metadata": {},
   "outputs": [
    {
     "name": "stdout",
     "output_type": "stream",
     "text": [
      "[1, 2, 3, 40]\n",
      "[1, 2, 3]\n",
      "[1, 2, 3, 40, 5, 6, 7, 80, 9, 10, 11, 120, 13, 14, 15, 160, 17, 18, 19, 200, 21, 22, 23, 240, 25]\n"
     ]
    }
   ],
   "source": [
    "def amplify(num):\n",
    "    return [x * 10 if x % 4 == 0 else x for x in range(1, num+1)]\n",
    "print(amplify(4))  # Output: [1, 2, 3, 40]\n",
    "print(amplify(3))  # Output: [1, 2, 3]\n",
    "print(amplify(25))  # Output: [1, 2, 3, 40, 5, 6, 7, 80, 9, 10, 11, 120, 13, 14, 15, 160, 17, 18, 19, 200, 21, 22, 23, 240, 25]"
   ]
  },
  {
   "cell_type": "markdown",
   "id": "5959bfc3",
   "metadata": {},
   "source": [
    "## 2) Create a function that takes a list of numbers and return the number that&#39;s unique."
   ]
  },
  {
   "cell_type": "code",
   "execution_count": 2,
   "id": "285f5570",
   "metadata": {},
   "outputs": [
    {
     "name": "stdout",
     "output_type": "stream",
     "text": [
      "7\n",
      "0.77\n",
      "0\n"
     ]
    }
   ],
   "source": [
    "def unique(lst):\n",
    "    unique_num = 0\n",
    "    for num in lst:\n",
    "        if lst.count(num) == 1:\n",
    "            unique_num = num\n",
    "            break\n",
    "    return unique_num\n",
    "print(unique([3, 3, 3, 7, 3, 3]))  # Output: 7\n",
    "print(unique([0, 0, 0.77, 0, 0]))  # Output: 0.77\n",
    "print(unique([0, 1, 1, 1, 1, 1, 1, 1]))  # Output: 0"
   ]
  },
  {
   "cell_type": "markdown",
   "id": "e2778a75",
   "metadata": {},
   "source": [
    "## 3) Your task is to create a Circle constructor that creates a circle with a radius provided by an argument. The circles constructed must have two getters getArea() (PIr^2) and getPerimeter() (2PI*r) which give both respective areas and perimeter (circumference). For help with this class, I have provided you with a Rectangle constructor which you can use as a base example."
   ]
  },
  {
   "cell_type": "code",
   "execution_count": 3,
   "id": "093de60c",
   "metadata": {},
   "outputs": [
    {
     "name": "stdout",
     "output_type": "stream",
     "text": [
      "381\n",
      "28\n"
     ]
    }
   ],
   "source": [
    "import math\n",
    "\n",
    "class Circle:\n",
    "    def __init__(self, radius):\n",
    "        self.radius = radius\n",
    "\n",
    "    def getArea(self):\n",
    "        return math.ceil(math.pi * self.radius ** 2)\n",
    "\n",
    "    def getPerimeter(self):\n",
    "        return math.ceil(2 * math.pi * self.radius)\n",
    "circy = Circle(11)\n",
    "print(circy.getArea())  # Output: 380\n",
    "circy = Circle(4.44)\n",
    "print(circy.getPerimeter())  # Output: 28"
   ]
  },
  {
   "cell_type": "markdown",
   "id": "18dcd6f5",
   "metadata": {},
   "source": [
    "## 4) Create a function that takes a list of strings and return a list, sorted from shortest to longest."
   ]
  },
  {
   "cell_type": "code",
   "execution_count": 4,
   "id": "4b5a83ff",
   "metadata": {},
   "outputs": [
    {
     "name": "stdout",
     "output_type": "stream",
     "text": [
      "['Apple', 'Google', 'Microsoft']\n",
      "['Raphael', 'Leonardo', 'Donatello', 'Michelangelo']\n",
      "['Jung', 'Turing', 'Einstein']\n"
     ]
    }
   ],
   "source": [
    "def sort_by_length(lst):\n",
    "    return sorted(lst, key=len)\n",
    "print(sort_by_length([\"Google\", \"Apple\", \"Microsoft\"]))  # Output: [\"Apple\", \"Google\", \"Microsoft\"]\n",
    "print(sort_by_length([\"Leonardo\", \"Michelangelo\", \"Raphael\", \"Donatello\"]))  # Output: [\"Raphael\", \"Leonardo\", \"Donatello\", \"Michelangelo\"]\n",
    "print(sort_by_length([\"Turing\", \"Einstein\", \"Jung\"]))  # Output: [\"Jung\", \"Turing\", \"Einstein\"]"
   ]
  },
  {
   "cell_type": "markdown",
   "id": "c7123ffb",
   "metadata": {},
   "source": [
    "## 5) Create a function that validates whether three given integers form a Pythagorean triplet. The sum of the squares of the two smallest integers must equal the square of the largest number to be validated."
   ]
  },
  {
   "cell_type": "code",
   "execution_count": 5,
   "id": "e87c1d01",
   "metadata": {},
   "outputs": [
    {
     "name": "stdout",
     "output_type": "stream",
     "text": [
      "True\n",
      "True\n",
      "False\n"
     ]
    }
   ],
   "source": [
    "def is_triplet(num1, num2, num3):\n",
    "    # Arrange the numbers in ascending order\n",
    "    sorted_nums = sorted([num1, num2, num3])\n",
    "    # Check if the sum of squares of the two smallest numbers is equal to the square of the largest number\n",
    "    return sorted_nums[0] ** 2 + sorted_nums[1] ** 2 == sorted_nums[2] ** 2\n",
    "print(is_triplet(3, 4, 5))  # Output: True\n",
    "print(is_triplet(13, 5, 12))  # Output: True\n",
    "print(is_triplet(1, 2, 3))  # Output: False"
   ]
  }
 ],
 "metadata": {
  "kernelspec": {
   "display_name": "Python 3 (ipykernel)",
   "language": "python",
   "name": "python3"
  },
  "language_info": {
   "codemirror_mode": {
    "name": "ipython",
    "version": 3
   },
   "file_extension": ".py",
   "mimetype": "text/x-python",
   "name": "python",
   "nbconvert_exporter": "python",
   "pygments_lexer": "ipython3",
   "version": "3.9.13"
  }
 },
 "nbformat": 4,
 "nbformat_minor": 5
}
